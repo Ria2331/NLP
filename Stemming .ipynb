{
 "cells": [
  {
   "cell_type": "code",
   "execution_count": 1,
   "id": "7c224ac5",
   "metadata": {},
   "outputs": [],
   "source": [
    "import nltk\n",
    "from nltk.stem import PorterStemmer\n",
    "from nltk.corpus import stopwords"
   ]
  },
  {
   "cell_type": "code",
   "execution_count": 10,
   "id": "7c606fe8",
   "metadata": {},
   "outputs": [
    {
     "name": "stderr",
     "output_type": "stream",
     "text": [
      "[nltk_data] Downloading package punkt to\n",
      "[nltk_data]     C:\\Users\\USER\\AppData\\Roaming\\nltk_data...\n",
      "[nltk_data]   Package punkt is already up-to-date!\n",
      "[nltk_data] Downloading package stopwords to\n",
      "[nltk_data]     C:\\Users\\USER\\AppData\\Roaming\\nltk_data...\n",
      "[nltk_data]   Package stopwords is already up-to-date!\n"
     ]
    },
    {
     "data": {
      "text/plain": [
       "True"
      ]
     },
     "execution_count": 10,
     "metadata": {},
     "output_type": "execute_result"
    }
   ],
   "source": [
    "nltk.download('punkt')  # For tokenization\n",
    "nltk.download('stopwords')  # For stopwords"
   ]
  },
  {
   "cell_type": "code",
   "execution_count": 3,
   "id": "4783f6d3",
   "metadata": {},
   "outputs": [],
   "source": [
    "paragraph = (\"I have three visions for India. In 3000 years of our history people from all over \"\n",
    "             \"the world have come and invaded us, captured our lands, conquered our minds. From Alexander onwards, \"\n",
    "             \"the Greeks, the Turks, the Moguls, the Portuguese, the British, the French, the Dutch, all of them \"\n",
    "             \"came and looted us, took over what was ours. Yet we have not done this to any other nation. We have not \"\n",
    "             \"conquered anyone. We have not grabbed their land, their culture, and their history and tried to enforce \"\n",
    "             \"our way of life on them. Why? Because we respect the freedom of others. That We have 10 percent growth \"\n",
    "             \"rate in most areas. Our poverty levels are falling. Our achievements are being globally recognised today. \"\n",
    "             \"Yet we lack the self-confidence to see ourselves as a developed nation, self-reliant and self-assured. Isn’t \"\n",
    "             \"this incorrect? MY SECOND VISION for India is DEVELOPMENT. For fifty years we have been a developing nation. \"\n",
    "             \"It is time we see ourselves as a developed nation. We are among top five nations in the world in terms of GDP. \"\n",
    "             \"I have a THIRD VISION. India must stand up to the world. Because I believe that unless India stands up to the \"\n",
    "             \"world, no one will respect us. Only strength respects strength. We must be strong not only as a military power \"\n",
    "             \"but also as an economic power. Both must go hand-in-hand. My good fortune was to have worked with three great minds. \"\n",
    "             \"Dr.Vikram Sarabhai, of the Dept. of Space, Professor Satish Dhawan, who succeeded him and Dr. Brahm Prakash, \"\n",
    "             \"father of nuclear material. I was lucky to have worked with all three of them closely and consider this the great \"\n",
    "             \"opportunity of my life.\")\n"
   ]
  },
  {
   "cell_type": "code",
   "execution_count": 4,
   "id": "38314177",
   "metadata": {},
   "outputs": [],
   "source": [
    "sentences = nltk.sent_tokenize(paragraph)"
   ]
  },
  {
   "cell_type": "code",
   "execution_count": 5,
   "id": "7ff220a5",
   "metadata": {},
   "outputs": [],
   "source": [
    "stemmer = PorterStemmer()"
   ]
  },
  {
   "cell_type": "code",
   "execution_count": 6,
   "id": "b301d14d",
   "metadata": {},
   "outputs": [],
   "source": [
    "stop_words = set(stopwords.words('english'))"
   ]
  },
  {
   "cell_type": "code",
   "execution_count": 8,
   "id": "ab79af89",
   "metadata": {},
   "outputs": [],
   "source": [
    "#Process each sentence\n",
    "processed_sentences = []\n",
    "for sentence in sentences:\n",
    "    words = nltk.word_tokenize(sentence)\n",
    "    filtered_words = [stemmer.stem(word) for word in words if word.lower() not in stop_words]\n",
    "    processed_sentence = ' '.join(filtered_words)\n",
    "    processed_sentences.append(processed_sentence)\n"
   ]
  },
  {
   "cell_type": "code",
   "execution_count": 9,
   "id": "4b1ac7bf",
   "metadata": {},
   "outputs": [
    {
     "name": "stdout",
     "output_type": "stream",
     "text": [
      "['three vision india .', '3000 year histori peopl world come invad us , captur land , conquer mind .', 'alexand onward , greek , turk , mogul , portugues , british , french , dutch , came loot us , took .', 'yet done nation .', 'conquer anyon .', 'grab land , cultur , histori tri enforc way life .', '?', 'respect freedom other .', '10 percent growth rate area .', 'poverti level fall .', 'achiev global recognis today .', 'yet lack self-confid see develop nation , self-reli self-assur .', '’ incorrect ?', 'second vision india develop .', 'fifti year develop nation .', 'time see develop nation .', 'among top five nation world term gdp .', 'third vision .', 'india must stand world .', 'believ unless india stand world , one respect us .', 'strength respect strength .', 'must strong militari power also econom power .', 'must go hand-in-hand .', 'good fortun work three great mind .', 'dr.vikram sarabhai , dept .', 'space , professor satish dhawan , succeed dr. brahm prakash , father nuclear materi .', 'lucki work three close consid great opportun life .']\n"
     ]
    }
   ],
   "source": [
    "print(processed_sentences)"
   ]
  },
  {
   "cell_type": "code",
   "execution_count": null,
   "id": "c4ac3de5",
   "metadata": {},
   "outputs": [],
   "source": []
  },
  {
   "cell_type": "code",
   "execution_count": null,
   "id": "2694c83b",
   "metadata": {},
   "outputs": [],
   "source": []
  },
  {
   "cell_type": "code",
   "execution_count": null,
   "id": "e40983a9",
   "metadata": {},
   "outputs": [],
   "source": []
  },
  {
   "cell_type": "code",
   "execution_count": null,
   "id": "9bfb3bd5",
   "metadata": {},
   "outputs": [],
   "source": []
  },
  {
   "cell_type": "code",
   "execution_count": null,
   "id": "82ef65b5",
   "metadata": {},
   "outputs": [],
   "source": []
  },
  {
   "cell_type": "code",
   "execution_count": null,
   "id": "cf4d8625",
   "metadata": {},
   "outputs": [],
   "source": []
  },
  {
   "cell_type": "code",
   "execution_count": null,
   "id": "85dcfa9a",
   "metadata": {},
   "outputs": [],
   "source": []
  },
  {
   "cell_type": "code",
   "execution_count": null,
   "id": "2e0df77e",
   "metadata": {},
   "outputs": [],
   "source": []
  },
  {
   "cell_type": "code",
   "execution_count": null,
   "id": "0c7275a2",
   "metadata": {},
   "outputs": [],
   "source": []
  },
  {
   "cell_type": "code",
   "execution_count": null,
   "id": "27b40426",
   "metadata": {},
   "outputs": [],
   "source": []
  },
  {
   "cell_type": "code",
   "execution_count": null,
   "id": "b3a8f352",
   "metadata": {},
   "outputs": [],
   "source": []
  }
 ],
 "metadata": {
  "kernelspec": {
   "display_name": "Python 3 (ipykernel)",
   "language": "python",
   "name": "python3"
  },
  "language_info": {
   "codemirror_mode": {
    "name": "ipython",
    "version": 3
   },
   "file_extension": ".py",
   "mimetype": "text/x-python",
   "name": "python",
   "nbconvert_exporter": "python",
   "pygments_lexer": "ipython3",
   "version": "3.11.4"
  }
 },
 "nbformat": 4,
 "nbformat_minor": 5
}
