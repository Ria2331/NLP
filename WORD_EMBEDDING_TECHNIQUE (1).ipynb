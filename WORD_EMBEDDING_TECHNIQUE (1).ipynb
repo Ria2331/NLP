{
  "nbformat": 4,
  "nbformat_minor": 0,
  "metadata": {
    "colab": {
      "provenance": []
    },
    "kernelspec": {
      "name": "python3",
      "display_name": "Python 3"
    },
    "language_info": {
      "name": "python"
    }
  },
  "cells": [
    {
      "cell_type": "code",
      "source": [
        "!pip install tensorflow"
      ],
      "metadata": {
        "id": "IPLwbYcc9bAH",
        "colab": {
          "base_uri": "https://localhost:8080/"
        },
        "outputId": "b9d024da-f351-4739-aeb8-8fc6b1e5cba9"
      },
      "execution_count": 2,
      "outputs": [
        {
          "output_type": "stream",
          "name": "stdout",
          "text": [
            "Requirement already satisfied: tensorflow in /usr/local/lib/python3.10/dist-packages (2.15.0)\n",
            "Requirement already satisfied: absl-py>=1.0.0 in /usr/local/lib/python3.10/dist-packages (from tensorflow) (1.4.0)\n",
            "Requirement already satisfied: astunparse>=1.6.0 in /usr/local/lib/python3.10/dist-packages (from tensorflow) (1.6.3)\n",
            "Requirement already satisfied: flatbuffers>=23.5.26 in /usr/local/lib/python3.10/dist-packages (from tensorflow) (24.3.25)\n",
            "Requirement already satisfied: gast!=0.5.0,!=0.5.1,!=0.5.2,>=0.2.1 in /usr/local/lib/python3.10/dist-packages (from tensorflow) (0.5.4)\n",
            "Requirement already satisfied: google-pasta>=0.1.1 in /usr/local/lib/python3.10/dist-packages (from tensorflow) (0.2.0)\n",
            "Requirement already satisfied: h5py>=2.9.0 in /usr/local/lib/python3.10/dist-packages (from tensorflow) (3.9.0)\n",
            "Requirement already satisfied: libclang>=13.0.0 in /usr/local/lib/python3.10/dist-packages (from tensorflow) (18.1.1)\n",
            "Requirement already satisfied: ml-dtypes~=0.2.0 in /usr/local/lib/python3.10/dist-packages (from tensorflow) (0.2.0)\n",
            "Requirement already satisfied: numpy<2.0.0,>=1.23.5 in /usr/local/lib/python3.10/dist-packages (from tensorflow) (1.25.2)\n",
            "Requirement already satisfied: opt-einsum>=2.3.2 in /usr/local/lib/python3.10/dist-packages (from tensorflow) (3.3.0)\n",
            "Requirement already satisfied: packaging in /usr/local/lib/python3.10/dist-packages (from tensorflow) (24.1)\n",
            "Requirement already satisfied: protobuf!=4.21.0,!=4.21.1,!=4.21.2,!=4.21.3,!=4.21.4,!=4.21.5,<5.0.0dev,>=3.20.3 in /usr/local/lib/python3.10/dist-packages (from tensorflow) (3.20.3)\n",
            "Requirement already satisfied: setuptools in /usr/local/lib/python3.10/dist-packages (from tensorflow) (67.7.2)\n",
            "Requirement already satisfied: six>=1.12.0 in /usr/local/lib/python3.10/dist-packages (from tensorflow) (1.16.0)\n",
            "Requirement already satisfied: termcolor>=1.1.0 in /usr/local/lib/python3.10/dist-packages (from tensorflow) (2.4.0)\n",
            "Requirement already satisfied: typing-extensions>=3.6.6 in /usr/local/lib/python3.10/dist-packages (from tensorflow) (4.12.2)\n",
            "Requirement already satisfied: wrapt<1.15,>=1.11.0 in /usr/local/lib/python3.10/dist-packages (from tensorflow) (1.14.1)\n",
            "Requirement already satisfied: tensorflow-io-gcs-filesystem>=0.23.1 in /usr/local/lib/python3.10/dist-packages (from tensorflow) (0.37.0)\n",
            "Requirement already satisfied: grpcio<2.0,>=1.24.3 in /usr/local/lib/python3.10/dist-packages (from tensorflow) (1.64.1)\n",
            "Requirement already satisfied: tensorboard<2.16,>=2.15 in /usr/local/lib/python3.10/dist-packages (from tensorflow) (2.15.2)\n",
            "Requirement already satisfied: tensorflow-estimator<2.16,>=2.15.0 in /usr/local/lib/python3.10/dist-packages (from tensorflow) (2.15.0)\n",
            "Requirement already satisfied: keras<2.16,>=2.15.0 in /usr/local/lib/python3.10/dist-packages (from tensorflow) (2.15.0)\n",
            "Requirement already satisfied: wheel<1.0,>=0.23.0 in /usr/local/lib/python3.10/dist-packages (from astunparse>=1.6.0->tensorflow) (0.43.0)\n",
            "Requirement already satisfied: google-auth<3,>=1.6.3 in /usr/local/lib/python3.10/dist-packages (from tensorboard<2.16,>=2.15->tensorflow) (2.27.0)\n",
            "Requirement already satisfied: google-auth-oauthlib<2,>=0.5 in /usr/local/lib/python3.10/dist-packages (from tensorboard<2.16,>=2.15->tensorflow) (1.2.0)\n",
            "Requirement already satisfied: markdown>=2.6.8 in /usr/local/lib/python3.10/dist-packages (from tensorboard<2.16,>=2.15->tensorflow) (3.6)\n",
            "Requirement already satisfied: requests<3,>=2.21.0 in /usr/local/lib/python3.10/dist-packages (from tensorboard<2.16,>=2.15->tensorflow) (2.31.0)\n",
            "Requirement already satisfied: tensorboard-data-server<0.8.0,>=0.7.0 in /usr/local/lib/python3.10/dist-packages (from tensorboard<2.16,>=2.15->tensorflow) (0.7.2)\n",
            "Requirement already satisfied: werkzeug>=1.0.1 in /usr/local/lib/python3.10/dist-packages (from tensorboard<2.16,>=2.15->tensorflow) (3.0.3)\n",
            "Requirement already satisfied: cachetools<6.0,>=2.0.0 in /usr/local/lib/python3.10/dist-packages (from google-auth<3,>=1.6.3->tensorboard<2.16,>=2.15->tensorflow) (5.3.3)\n",
            "Requirement already satisfied: pyasn1-modules>=0.2.1 in /usr/local/lib/python3.10/dist-packages (from google-auth<3,>=1.6.3->tensorboard<2.16,>=2.15->tensorflow) (0.4.0)\n",
            "Requirement already satisfied: rsa<5,>=3.1.4 in /usr/local/lib/python3.10/dist-packages (from google-auth<3,>=1.6.3->tensorboard<2.16,>=2.15->tensorflow) (4.9)\n",
            "Requirement already satisfied: requests-oauthlib>=0.7.0 in /usr/local/lib/python3.10/dist-packages (from google-auth-oauthlib<2,>=0.5->tensorboard<2.16,>=2.15->tensorflow) (1.3.1)\n",
            "Requirement already satisfied: charset-normalizer<4,>=2 in /usr/local/lib/python3.10/dist-packages (from requests<3,>=2.21.0->tensorboard<2.16,>=2.15->tensorflow) (3.3.2)\n",
            "Requirement already satisfied: idna<4,>=2.5 in /usr/local/lib/python3.10/dist-packages (from requests<3,>=2.21.0->tensorboard<2.16,>=2.15->tensorflow) (3.7)\n",
            "Requirement already satisfied: urllib3<3,>=1.21.1 in /usr/local/lib/python3.10/dist-packages (from requests<3,>=2.21.0->tensorboard<2.16,>=2.15->tensorflow) (2.0.7)\n",
            "Requirement already satisfied: certifi>=2017.4.17 in /usr/local/lib/python3.10/dist-packages (from requests<3,>=2.21.0->tensorboard<2.16,>=2.15->tensorflow) (2024.6.2)\n",
            "Requirement already satisfied: MarkupSafe>=2.1.1 in /usr/local/lib/python3.10/dist-packages (from werkzeug>=1.0.1->tensorboard<2.16,>=2.15->tensorflow) (2.1.5)\n",
            "\u001b[31mERROR: Operation cancelled by user\u001b[0m\u001b[31m\n",
            "\u001b[0m^C\n"
          ]
        }
      ]
    },
    {
      "cell_type": "code",
      "source": [
        "import tensorflow as tf"
      ],
      "metadata": {
        "id": "GcUpxSQ0A-cX"
      },
      "execution_count": 4,
      "outputs": []
    },
    {
      "cell_type": "code",
      "source": [
        "tf.__version__"
      ],
      "metadata": {
        "colab": {
          "base_uri": "https://localhost:8080/",
          "height": 36
        },
        "id": "idJM3R5CYRXr",
        "outputId": "a90d6785-9513-4f24-b529-90d9f13d406e"
      },
      "execution_count": 5,
      "outputs": [
        {
          "output_type": "execute_result",
          "data": {
            "text/plain": [
              "'2.15.0'"
            ],
            "application/vnd.google.colaboratory.intrinsic+json": {
              "type": "string"
            }
          },
          "metadata": {},
          "execution_count": 5
        }
      ]
    },
    {
      "cell_type": "code",
      "source": [
        "from tensorflow.keras.preprocessing.text import one_hot"
      ],
      "metadata": {
        "id": "_uj00uaQYWmx"
      },
      "execution_count": 6,
      "outputs": []
    },
    {
      "cell_type": "code",
      "source": [
        "### sentences\n",
        "sent=[  'the glass of milk',\n",
        "     'the glass of juice',\n",
        "     'the cup of tea',\n",
        "    'I am a good boy',\n",
        "     'I am a good developer',\n",
        "     'understand the meaning of words',\n",
        "     'your videos are good']"
      ],
      "metadata": {
        "id": "APSl7WSlYiIm"
      },
      "execution_count": 7,
      "outputs": []
    },
    {
      "cell_type": "code",
      "source": [
        "sent"
      ],
      "metadata": {
        "colab": {
          "base_uri": "https://localhost:8080/"
        },
        "id": "Ei3sLIuBYqmx",
        "outputId": "973765ca-5d5a-43d3-f6f2-48ef74c05bbc"
      },
      "execution_count": 8,
      "outputs": [
        {
          "output_type": "execute_result",
          "data": {
            "text/plain": [
              "['the glass of milk',\n",
              " 'the glass of juice',\n",
              " 'the cup of tea',\n",
              " 'I am a good boy',\n",
              " 'I am a good developer',\n",
              " 'understand the meaning of words',\n",
              " 'your videos are good']"
            ]
          },
          "metadata": {},
          "execution_count": 8
        }
      ]
    },
    {
      "cell_type": "code",
      "source": [
        "voc_size= 10000"
      ],
      "metadata": {
        "id": "w2u3YFEXYuTn"
      },
      "execution_count": 9,
      "outputs": []
    },
    {
      "cell_type": "code",
      "source": [
        "onehot_rep= [one_hot(words, voc_size) for words in sent]"
      ],
      "metadata": {
        "id": "3Zfi1d7QYxxp"
      },
      "execution_count": 10,
      "outputs": []
    },
    {
      "cell_type": "code",
      "source": [
        "onehot_rep"
      ],
      "metadata": {
        "colab": {
          "base_uri": "https://localhost:8080/"
        },
        "id": "-mSC6PjTZEzH",
        "outputId": "3f907d79-3151-4e05-8174-0a37f93173e5"
      },
      "execution_count": 12,
      "outputs": [
        {
          "output_type": "execute_result",
          "data": {
            "text/plain": [
              "[[6469, 9948, 388, 8354],\n",
              " [6469, 9948, 388, 9814],\n",
              " [6469, 4224, 388, 5367],\n",
              " [859, 6435, 7919, 8350, 5595],\n",
              " [859, 6435, 7919, 8350, 8115],\n",
              " [1575, 6469, 5643, 388, 8309],\n",
              " [5972, 9665, 6739, 8350]]"
            ]
          },
          "metadata": {},
          "execution_count": 12
        }
      ]
    },
    {
      "cell_type": "code",
      "source": [
        "#Word Embedding Represntation"
      ],
      "metadata": {
        "id": "cVYof30UZJe8"
      },
      "execution_count": 13,
      "outputs": []
    },
    {
      "cell_type": "code",
      "source": [
        "#Importing Libraries"
      ],
      "metadata": {
        "id": "t8g_ZPiyZSe8"
      },
      "execution_count": 14,
      "outputs": []
    },
    {
      "cell_type": "code",
      "source": [
        "#To train the above sentence in neural network the sentences length shld be same"
      ],
      "metadata": {
        "id": "-wOQPAciZZEX"
      },
      "execution_count": 15,
      "outputs": []
    },
    {
      "cell_type": "code",
      "source": [
        "#For that we will do Post & Pre Padding"
      ],
      "metadata": {
        "id": "JuWSRdR1ZoXo"
      },
      "execution_count": 16,
      "outputs": []
    },
    {
      "cell_type": "code",
      "source": [
        "from tensorflow.keras.layers import Embedding\n",
        "from tensorflow.keras.preprocessing.sequence import pad_sequences\n",
        "from tensorflow.keras.models import Sequential"
      ],
      "metadata": {
        "id": "JwiVFFk5Zxvx"
      },
      "execution_count": 17,
      "outputs": []
    },
    {
      "cell_type": "code",
      "source": [
        "sent_length= 8\n",
        "embedded_doc = pad_sequences(onehot_rep, padding = 'pre', maxlen=sent_length)"
      ],
      "metadata": {
        "id": "Tm1jdRc0cOlU"
      },
      "execution_count": 18,
      "outputs": []
    },
    {
      "cell_type": "code",
      "source": [
        "embedded_doc"
      ],
      "metadata": {
        "colab": {
          "base_uri": "https://localhost:8080/"
        },
        "id": "9OKZFvOpdNRw",
        "outputId": "3e40f870-1897-4186-cb75-146dbca6bfc3"
      },
      "execution_count": 19,
      "outputs": [
        {
          "output_type": "execute_result",
          "data": {
            "text/plain": [
              "array([[   0,    0,    0,    0, 6469, 9948,  388, 8354],\n",
              "       [   0,    0,    0,    0, 6469, 9948,  388, 9814],\n",
              "       [   0,    0,    0,    0, 6469, 4224,  388, 5367],\n",
              "       [   0,    0,    0,  859, 6435, 7919, 8350, 5595],\n",
              "       [   0,    0,    0,  859, 6435, 7919, 8350, 8115],\n",
              "       [   0,    0,    0, 1575, 6469, 5643,  388, 8309],\n",
              "       [   0,    0,    0,    0, 5972, 9665, 6739, 8350]], dtype=int32)"
            ]
          },
          "metadata": {},
          "execution_count": 19
        }
      ]
    },
    {
      "cell_type": "code",
      "source": [
        "#converting exach & every value into vector"
      ],
      "metadata": {
        "id": "M89T2BFckjxO"
      },
      "execution_count": 20,
      "outputs": []
    },
    {
      "cell_type": "code",
      "source": [
        "dim =10"
      ],
      "metadata": {
        "id": "8oC3XM7H9j_Q"
      },
      "execution_count": 21,
      "outputs": []
    },
    {
      "cell_type": "code",
      "source": [
        "model = Sequential()"
      ],
      "metadata": {
        "id": "gN6yirdy9tmx"
      },
      "execution_count": 22,
      "outputs": []
    },
    {
      "cell_type": "code",
      "source": [
        "model.add(Embedding(voc_size,dim,input_length=sent_length))\n",
        "model.compile('adam','mse')"
      ],
      "metadata": {
        "id": "7fsMZLwb9l56"
      },
      "execution_count": 23,
      "outputs": []
    },
    {
      "cell_type": "code",
      "source": [
        "model.summary()"
      ],
      "metadata": {
        "colab": {
          "base_uri": "https://localhost:8080/"
        },
        "id": "7eTbHvDs9rnu",
        "outputId": "59b66c1d-cac8-4908-b733-5c10ee5d7ce5"
      },
      "execution_count": 24,
      "outputs": [
        {
          "output_type": "stream",
          "name": "stdout",
          "text": [
            "Model: \"sequential\"\n",
            "_________________________________________________________________\n",
            " Layer (type)                Output Shape              Param #   \n",
            "=================================================================\n",
            " embedding (Embedding)       (None, 8, 10)             100000    \n",
            "                                                                 \n",
            "=================================================================\n",
            "Total params: 100000 (390.62 KB)\n",
            "Trainable params: 100000 (390.62 KB)\n",
            "Non-trainable params: 0 (0.00 Byte)\n",
            "_________________________________________________________________\n"
          ]
        }
      ]
    },
    {
      "cell_type": "code",
      "source": [
        "model.predict(embedded_doc[0])"
      ],
      "metadata": {
        "colab": {
          "base_uri": "https://localhost:8080/"
        },
        "id": "AIl5VMCt-EXS",
        "outputId": "9ae6fcd1-48de-4f43-b765-e8b623549453"
      },
      "execution_count": 25,
      "outputs": [
        {
          "output_type": "stream",
          "name": "stdout",
          "text": [
            "1/1 [==============================] - 0s 114ms/step\n"
          ]
        },
        {
          "output_type": "execute_result",
          "data": {
            "text/plain": [
              "array([[ 0.03293172, -0.04210307, -0.03184663, -0.01190722,  0.00665072,\n",
              "        -0.01907097,  0.044041  , -0.01366242, -0.04052758, -0.02579547],\n",
              "       [ 0.03293172, -0.04210307, -0.03184663, -0.01190722,  0.00665072,\n",
              "        -0.01907097,  0.044041  , -0.01366242, -0.04052758, -0.02579547],\n",
              "       [ 0.03293172, -0.04210307, -0.03184663, -0.01190722,  0.00665072,\n",
              "        -0.01907097,  0.044041  , -0.01366242, -0.04052758, -0.02579547],\n",
              "       [ 0.03293172, -0.04210307, -0.03184663, -0.01190722,  0.00665072,\n",
              "        -0.01907097,  0.044041  , -0.01366242, -0.04052758, -0.02579547],\n",
              "       [-0.02449478,  0.02901768,  0.00439688,  0.00315221,  0.02892036,\n",
              "        -0.0173239 ,  0.04336325,  0.02653987, -0.04388222, -0.04655131],\n",
              "       [ 0.03306475, -0.03112775,  0.03834691, -0.01796347,  0.00510437,\n",
              "         0.00872723,  0.02880097, -0.01534568,  0.03002287, -0.0118315 ],\n",
              "       [ 0.04080379,  0.02966462,  0.00048176,  0.03530321,  0.04327711,\n",
              "         0.00340509,  0.00556167,  0.00370162,  0.03133328,  0.03890345],\n",
              "       [-0.00688969, -0.03381163,  0.03663487, -0.01767207,  0.01236828,\n",
              "        -0.04957985,  0.03808646,  0.01785496,  0.00222634, -0.04549528]],\n",
              "      dtype=float32)"
            ]
          },
          "metadata": {},
          "execution_count": 25
        }
      ]
    },
    {
      "cell_type": "code",
      "source": [
        "print(model.predict(embedded_doc))"
      ],
      "metadata": {
        "colab": {
          "base_uri": "https://localhost:8080/"
        },
        "id": "COab7SbkHhVf",
        "outputId": "fa573a2d-1a51-42da-b4f8-a9977d8d3137"
      },
      "execution_count": 26,
      "outputs": [
        {
          "output_type": "stream",
          "name": "stdout",
          "text": [
            "1/1 [==============================] - 0s 95ms/step\n",
            "[[[ 0.03293172 -0.04210307 -0.03184663 -0.01190722  0.00665072\n",
            "   -0.01907097  0.044041   -0.01366242 -0.04052758 -0.02579547]\n",
            "  [ 0.03293172 -0.04210307 -0.03184663 -0.01190722  0.00665072\n",
            "   -0.01907097  0.044041   -0.01366242 -0.04052758 -0.02579547]\n",
            "  [ 0.03293172 -0.04210307 -0.03184663 -0.01190722  0.00665072\n",
            "   -0.01907097  0.044041   -0.01366242 -0.04052758 -0.02579547]\n",
            "  [ 0.03293172 -0.04210307 -0.03184663 -0.01190722  0.00665072\n",
            "   -0.01907097  0.044041   -0.01366242 -0.04052758 -0.02579547]\n",
            "  [-0.02449478  0.02901768  0.00439688  0.00315221  0.02892036\n",
            "   -0.0173239   0.04336325  0.02653987 -0.04388222 -0.04655131]\n",
            "  [ 0.03306475 -0.03112775  0.03834691 -0.01796347  0.00510437\n",
            "    0.00872723  0.02880097 -0.01534568  0.03002287 -0.0118315 ]\n",
            "  [ 0.04080379  0.02966462  0.00048176  0.03530321  0.04327711\n",
            "    0.00340509  0.00556167  0.00370162  0.03133328  0.03890345]\n",
            "  [-0.00688969 -0.03381163  0.03663487 -0.01767207  0.01236828\n",
            "   -0.04957985  0.03808646  0.01785496  0.00222634 -0.04549528]]\n",
            "\n",
            " [[ 0.03293172 -0.04210307 -0.03184663 -0.01190722  0.00665072\n",
            "   -0.01907097  0.044041   -0.01366242 -0.04052758 -0.02579547]\n",
            "  [ 0.03293172 -0.04210307 -0.03184663 -0.01190722  0.00665072\n",
            "   -0.01907097  0.044041   -0.01366242 -0.04052758 -0.02579547]\n",
            "  [ 0.03293172 -0.04210307 -0.03184663 -0.01190722  0.00665072\n",
            "   -0.01907097  0.044041   -0.01366242 -0.04052758 -0.02579547]\n",
            "  [ 0.03293172 -0.04210307 -0.03184663 -0.01190722  0.00665072\n",
            "   -0.01907097  0.044041   -0.01366242 -0.04052758 -0.02579547]\n",
            "  [-0.02449478  0.02901768  0.00439688  0.00315221  0.02892036\n",
            "   -0.0173239   0.04336325  0.02653987 -0.04388222 -0.04655131]\n",
            "  [ 0.03306475 -0.03112775  0.03834691 -0.01796347  0.00510437\n",
            "    0.00872723  0.02880097 -0.01534568  0.03002287 -0.0118315 ]\n",
            "  [ 0.04080379  0.02966462  0.00048176  0.03530321  0.04327711\n",
            "    0.00340509  0.00556167  0.00370162  0.03133328  0.03890345]\n",
            "  [ 0.00917528  0.0303167  -0.03220794 -0.03185483  0.01909503\n",
            "    0.00404816 -0.04711905  0.00931691 -0.03375691 -0.0006533 ]]\n",
            "\n",
            " [[ 0.03293172 -0.04210307 -0.03184663 -0.01190722  0.00665072\n",
            "   -0.01907097  0.044041   -0.01366242 -0.04052758 -0.02579547]\n",
            "  [ 0.03293172 -0.04210307 -0.03184663 -0.01190722  0.00665072\n",
            "   -0.01907097  0.044041   -0.01366242 -0.04052758 -0.02579547]\n",
            "  [ 0.03293172 -0.04210307 -0.03184663 -0.01190722  0.00665072\n",
            "   -0.01907097  0.044041   -0.01366242 -0.04052758 -0.02579547]\n",
            "  [ 0.03293172 -0.04210307 -0.03184663 -0.01190722  0.00665072\n",
            "   -0.01907097  0.044041   -0.01366242 -0.04052758 -0.02579547]\n",
            "  [-0.02449478  0.02901768  0.00439688  0.00315221  0.02892036\n",
            "   -0.0173239   0.04336325  0.02653987 -0.04388222 -0.04655131]\n",
            "  [-0.0428674  -0.01464484  0.03026835  0.03536792 -0.03171648\n",
            "   -0.04206539 -0.03128641  0.0043637   0.0161359  -0.00654292]\n",
            "  [ 0.04080379  0.02966462  0.00048176  0.03530321  0.04327711\n",
            "    0.00340509  0.00556167  0.00370162  0.03133328  0.03890345]\n",
            "  [-0.03720365  0.03718961 -0.04066994  0.02222976  0.02817882\n",
            "   -0.04669128 -0.02235643  0.00328545  0.01371488 -0.0393136 ]]\n",
            "\n",
            " [[ 0.03293172 -0.04210307 -0.03184663 -0.01190722  0.00665072\n",
            "   -0.01907097  0.044041   -0.01366242 -0.04052758 -0.02579547]\n",
            "  [ 0.03293172 -0.04210307 -0.03184663 -0.01190722  0.00665072\n",
            "   -0.01907097  0.044041   -0.01366242 -0.04052758 -0.02579547]\n",
            "  [ 0.03293172 -0.04210307 -0.03184663 -0.01190722  0.00665072\n",
            "   -0.01907097  0.044041   -0.01366242 -0.04052758 -0.02579547]\n",
            "  [ 0.03489191  0.03515987  0.0380692   0.02271963  0.02676651\n",
            "   -0.01667236  0.01447257 -0.00978938  0.04301813  0.04907403]\n",
            "  [ 0.03350982  0.0310333   0.02150864  0.03669256  0.02874914\n",
            "   -0.00561997 -0.01927546 -0.026125    0.0491874   0.00530301]\n",
            "  [-0.04682858  0.02756561 -0.04965487 -0.04207488 -0.04898659\n",
            "    0.04262883  0.03431174  0.00067892 -0.011965   -0.03617226]\n",
            "  [-0.01320519 -0.00526445 -0.02773614 -0.04940754 -0.0122127\n",
            "   -0.00601273  0.00898092 -0.02284977 -0.04090754  0.01149072]\n",
            "  [-0.04658983  0.01793481  0.03041437 -0.04067099 -0.00507258\n",
            "    0.00510691 -0.01080563  0.0256852   0.03888038  0.02742808]]\n",
            "\n",
            " [[ 0.03293172 -0.04210307 -0.03184663 -0.01190722  0.00665072\n",
            "   -0.01907097  0.044041   -0.01366242 -0.04052758 -0.02579547]\n",
            "  [ 0.03293172 -0.04210307 -0.03184663 -0.01190722  0.00665072\n",
            "   -0.01907097  0.044041   -0.01366242 -0.04052758 -0.02579547]\n",
            "  [ 0.03293172 -0.04210307 -0.03184663 -0.01190722  0.00665072\n",
            "   -0.01907097  0.044041   -0.01366242 -0.04052758 -0.02579547]\n",
            "  [ 0.03489191  0.03515987  0.0380692   0.02271963  0.02676651\n",
            "   -0.01667236  0.01447257 -0.00978938  0.04301813  0.04907403]\n",
            "  [ 0.03350982  0.0310333   0.02150864  0.03669256  0.02874914\n",
            "   -0.00561997 -0.01927546 -0.026125    0.0491874   0.00530301]\n",
            "  [-0.04682858  0.02756561 -0.04965487 -0.04207488 -0.04898659\n",
            "    0.04262883  0.03431174  0.00067892 -0.011965   -0.03617226]\n",
            "  [-0.01320519 -0.00526445 -0.02773614 -0.04940754 -0.0122127\n",
            "   -0.00601273  0.00898092 -0.02284977 -0.04090754  0.01149072]\n",
            "  [-0.04883556 -0.00906958 -0.03947432 -0.04020171 -0.00078548\n",
            "   -0.00101946 -0.02940863  0.04605985 -0.00410385 -0.03082626]]\n",
            "\n",
            " [[ 0.03293172 -0.04210307 -0.03184663 -0.01190722  0.00665072\n",
            "   -0.01907097  0.044041   -0.01366242 -0.04052758 -0.02579547]\n",
            "  [ 0.03293172 -0.04210307 -0.03184663 -0.01190722  0.00665072\n",
            "   -0.01907097  0.044041   -0.01366242 -0.04052758 -0.02579547]\n",
            "  [ 0.03293172 -0.04210307 -0.03184663 -0.01190722  0.00665072\n",
            "   -0.01907097  0.044041   -0.01366242 -0.04052758 -0.02579547]\n",
            "  [ 0.02520042  0.02607818 -0.0460109   0.0451442  -0.04634634\n",
            "    0.00150216  0.0010517   0.00698655  0.00474614  0.00942438]\n",
            "  [-0.02449478  0.02901768  0.00439688  0.00315221  0.02892036\n",
            "   -0.0173239   0.04336325  0.02653987 -0.04388222 -0.04655131]\n",
            "  [-0.01390577  0.04604044  0.04945892 -0.04087944 -0.01154426\n",
            "   -0.00143398  0.04507624 -0.02916038  0.00907819 -0.03979268]\n",
            "  [ 0.04080379  0.02966462  0.00048176  0.03530321  0.04327711\n",
            "    0.00340509  0.00556167  0.00370162  0.03133328  0.03890345]\n",
            "  [ 0.0065443   0.00086061 -0.01190771 -0.00098755  0.03356114\n",
            "   -0.00813244  0.01362186  0.03751263 -0.03906448  0.02146653]]\n",
            "\n",
            " [[ 0.03293172 -0.04210307 -0.03184663 -0.01190722  0.00665072\n",
            "   -0.01907097  0.044041   -0.01366242 -0.04052758 -0.02579547]\n",
            "  [ 0.03293172 -0.04210307 -0.03184663 -0.01190722  0.00665072\n",
            "   -0.01907097  0.044041   -0.01366242 -0.04052758 -0.02579547]\n",
            "  [ 0.03293172 -0.04210307 -0.03184663 -0.01190722  0.00665072\n",
            "   -0.01907097  0.044041   -0.01366242 -0.04052758 -0.02579547]\n",
            "  [ 0.03293172 -0.04210307 -0.03184663 -0.01190722  0.00665072\n",
            "   -0.01907097  0.044041   -0.01366242 -0.04052758 -0.02579547]\n",
            "  [-0.0206907   0.04356496 -0.03971913  0.04906316 -0.01213071\n",
            "    0.00201168  0.01232915  0.01638595  0.04525448 -0.03150936]\n",
            "  [ 0.00451832 -0.04775031  0.02943215 -0.02191871  0.04766053\n",
            "   -0.02082287  0.02244871 -0.02217429 -0.0002908  -0.02484675]\n",
            "  [-0.01593073 -0.04630141  0.0197303  -0.02782693 -0.04100173\n",
            "   -0.00046935  0.03616935  0.04144802  0.04621029  0.02189914]\n",
            "  [-0.01320519 -0.00526445 -0.02773614 -0.04940754 -0.0122127\n",
            "   -0.00601273  0.00898092 -0.02284977 -0.04090754  0.01149072]]]\n"
          ]
        }
      ]
    },
    {
      "cell_type": "code",
      "source": [],
      "metadata": {
        "id": "TB6DibDqHhYl"
      },
      "execution_count": null,
      "outputs": []
    },
    {
      "cell_type": "code",
      "source": [],
      "metadata": {
        "id": "3iVX06yQK8-6"
      },
      "execution_count": null,
      "outputs": []
    }
  ]
}