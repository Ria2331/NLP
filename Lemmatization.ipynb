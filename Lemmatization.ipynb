{
 "cells": [
  {
   "cell_type": "code",
   "execution_count": 1,
   "id": "efd41630",
   "metadata": {},
   "outputs": [],
   "source": [
    "import nltk"
   ]
  },
  {
   "cell_type": "code",
   "execution_count": 3,
   "id": "91f023f0",
   "metadata": {},
   "outputs": [],
   "source": [
    "from nltk.stem import WordNetLemmatizer\n",
    "from nltk.corpus import stopwords"
   ]
  },
  {
   "cell_type": "code",
   "execution_count": 4,
   "id": "728c3a8f",
   "metadata": {},
   "outputs": [
    {
     "name": "stderr",
     "output_type": "stream",
     "text": [
      "[nltk_data] Downloading package punkt to\n",
      "[nltk_data]     C:\\Users\\USER\\AppData\\Roaming\\nltk_data...\n",
      "[nltk_data]   Package punkt is already up-to-date!\n",
      "[nltk_data] Downloading package stopwords to\n",
      "[nltk_data]     C:\\Users\\USER\\AppData\\Roaming\\nltk_data...\n",
      "[nltk_data]   Package stopwords is already up-to-date!\n"
     ]
    },
    {
     "data": {
      "text/plain": [
       "True"
      ]
     },
     "execution_count": 4,
     "metadata": {},
     "output_type": "execute_result"
    }
   ],
   "source": [
    "nltk.download('punkt')  # For tokenization\n",
    "nltk.download('stopwords')  # For stopwords"
   ]
  },
  {
   "cell_type": "code",
   "execution_count": 5,
   "id": "3b2a3a50",
   "metadata": {},
   "outputs": [],
   "source": [
    "paragraph = (\"I have three visions for India. In 3000 years of our history people from all over \"\n",
    "             \"the world have come and invaded us, captured our lands, conquered our minds. From Alexander onwards, \"\n",
    "             \"the Greeks, the Turks, the Moguls, the Portuguese, the British, the French, the Dutch, all of them \"\n",
    "             \"came and looted us, took over what was ours. Yet we have not done this to any other nation. We have not \"\n",
    "             \"conquered anyone. We have not grabbed their land, their culture, and their history and tried to enforce \"\n",
    "             \"our way of life on them. Why? Because we respect the freedom of others. That We have 10 percent growth \"\n",
    "             \"rate in most areas. Our poverty levels are falling. Our achievements are being globally recognised today. \"\n",
    "             \"Yet we lack the self-confidence to see ourselves as a developed nation, self-reliant and self-assured. Isn’t \"\n",
    "             \"this incorrect? MY SECOND VISION for India is DEVELOPMENT. For fifty years we have been a developing nation. \"\n",
    "             \"It is time we see ourselves as a developed nation. We are among top five nations in the world in terms of GDP. \"\n",
    "             \"I have a THIRD VISION. India must stand up to the world. Because I believe that unless India stands up to the \"\n",
    "             \"world, no one will respect us. Only strength respects strength. We must be strong not only as a military power \"\n",
    "             \"but also as an economic power. Both must go hand-in-hand. My good fortune was to have worked with three great minds. \"\n",
    "             \"Dr.Vikram Sarabhai, of the Dept. of Space, Professor Satish Dhawan, who succeeded him and Dr. Brahm Prakash, \"\n",
    "             \"father of nuclear material. I was lucky to have worked with all three of them closely and consider this the great \"\n",
    "             \"opportunity of my life.\")\n"
   ]
  },
  {
   "cell_type": "code",
   "execution_count": 8,
   "id": "7ffcd80e",
   "metadata": {},
   "outputs": [],
   "source": [
    "sentences = nltk.sent_tokenize(paragraph)"
   ]
  },
  {
   "cell_type": "code",
   "execution_count": 9,
   "id": "7f29394b",
   "metadata": {},
   "outputs": [],
   "source": [
    "lemmatizer= WordNetLemmatizer()"
   ]
  },
  {
   "cell_type": "code",
   "execution_count": 12,
   "id": "e268e035",
   "metadata": {},
   "outputs": [],
   "source": [
    "stop_words = set(stopwords.words('english'))"
   ]
  },
  {
   "cell_type": "code",
   "execution_count": 22,
   "id": "62b1a522",
   "metadata": {},
   "outputs": [],
   "source": [
    "processed_sentences =[]"
   ]
  },
  {
   "cell_type": "code",
   "execution_count": 23,
   "id": "307d9043",
   "metadata": {},
   "outputs": [],
   "source": [
    "for sentence in sentences:\n",
    "    words = nltk.word_tokenize(sentence)\n",
    "    filtered_words = [lemmatizer.lemmatize(word) for word in words if word.lower() not in stop_words]\n",
    "    processed_sentence = ' '.join(filtered_words)\n",
    "    processed_sentences.append(processed_sentence)"
   ]
  },
  {
   "cell_type": "code",
   "execution_count": 24,
   "id": "ec93c874",
   "metadata": {},
   "outputs": [
    {
     "data": {
      "text/plain": [
       "['three vision India .',\n",
       " '3000 year history people world come invaded u , captured land , conquered mind .',\n",
       " 'Alexander onwards , Greeks , Turks , Moguls , Portuguese , British , French , Dutch , came looted u , took .',\n",
       " 'Yet done nation .',\n",
       " 'conquered anyone .',\n",
       " 'grabbed land , culture , history tried enforce way life .',\n",
       " '?',\n",
       " 'respect freedom others .',\n",
       " '10 percent growth rate area .',\n",
       " 'poverty level falling .',\n",
       " 'achievement globally recognised today .',\n",
       " 'Yet lack self-confidence see developed nation , self-reliant self-assured .',\n",
       " '’ incorrect ?',\n",
       " 'SECOND VISION India DEVELOPMENT .',\n",
       " 'fifty year developing nation .',\n",
       " 'time see developed nation .',\n",
       " 'among top five nation world term GDP .',\n",
       " 'THIRD VISION .',\n",
       " 'India must stand world .',\n",
       " 'believe unless India stand world , one respect u .',\n",
       " 'strength respect strength .',\n",
       " 'must strong military power also economic power .',\n",
       " 'must go hand-in-hand .',\n",
       " 'good fortune worked three great mind .',\n",
       " 'Dr.Vikram Sarabhai , Dept .',\n",
       " 'Space , Professor Satish Dhawan , succeeded Dr. Brahm Prakash , father nuclear material .',\n",
       " 'lucky worked three closely consider great opportunity life .']"
      ]
     },
     "execution_count": 24,
     "metadata": {},
     "output_type": "execute_result"
    }
   ],
   "source": [
    "processed_sentences"
   ]
  },
  {
   "cell_type": "code",
   "execution_count": null,
   "id": "83524fb6",
   "metadata": {},
   "outputs": [],
   "source": []
  },
  {
   "cell_type": "code",
   "execution_count": null,
   "id": "d110ed00",
   "metadata": {},
   "outputs": [],
   "source": []
  }
 ],
 "metadata": {
  "kernelspec": {
   "display_name": "Python 3 (ipykernel)",
   "language": "python",
   "name": "python3"
  },
  "language_info": {
   "codemirror_mode": {
    "name": "ipython",
    "version": 3
   },
   "file_extension": ".py",
   "mimetype": "text/x-python",
   "name": "python",
   "nbconvert_exporter": "python",
   "pygments_lexer": "ipython3",
   "version": "3.11.4"
  }
 },
 "nbformat": 4,
 "nbformat_minor": 5
}
